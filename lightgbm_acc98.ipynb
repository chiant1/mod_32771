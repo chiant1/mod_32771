{
 "cells": [
  {
   "cell_type": "code",
   "execution_count": 1,
   "metadata": {
    "ExecuteTime": {
     "end_time": "2020-04-27T07:11:09.203189Z",
     "start_time": "2020-04-27T07:11:08.595490Z"
    }
   },
   "outputs": [],
   "source": [
    "import pandas as pd\n",
    "import numpy as np\n",
    "import lightgbm as lgb\n",
    "import sys"
   ]
  },
  {
   "cell_type": "code",
   "execution_count": 2,
   "metadata": {
    "ExecuteTime": {
     "end_time": "2020-04-27T07:11:09.207953Z",
     "start_time": "2020-04-27T07:11:09.205447Z"
    }
   },
   "outputs": [],
   "source": [
    "P = 32771"
   ]
  },
  {
   "cell_type": "code",
   "execution_count": 3,
   "metadata": {
    "ExecuteTime": {
     "end_time": "2020-04-27T07:11:11.364352Z",
     "start_time": "2020-04-27T07:11:09.209582Z"
    }
   },
   "outputs": [
    {
     "data": {
      "text/plain": [
       "(3998155, 8583390742850828)"
      ]
     },
     "execution_count": 3,
     "metadata": {},
     "output_type": "execute_result"
    }
   ],
   "source": [
    "np.random.seed(P)\n",
    "random_sample = list(set(np.random.randint(0, 2**32, size=4000000).tolist()))\n",
    "np.random.shuffle(random_sample)\n",
    "len(random_sample), np.array(random_sample).sum()"
   ]
  },
  {
   "cell_type": "code",
   "execution_count": 4,
   "metadata": {
    "ExecuteTime": {
     "end_time": "2020-04-27T07:11:11.368104Z",
     "start_time": "2020-04-27T07:11:11.365564Z"
    }
   },
   "outputs": [],
   "source": [
    "def dataset(xs):\n",
    "    X = pd.DataFrame(map(lambda x: map(int,f'{x:032b}'), xs))\n",
    "    y = pd.Series(map(lambda x: (x % P) % 2, xs))\n",
    "    return X, y"
   ]
  },
  {
   "cell_type": "code",
   "execution_count": 5,
   "metadata": {
    "ExecuteTime": {
     "end_time": "2020-04-27T07:12:18.479876Z",
     "start_time": "2020-04-27T07:11:11.369163Z"
    }
   },
   "outputs": [],
   "source": [
    "X_train, y_train = dataset(random_sample[:2000000])\n",
    "X_val, y_val = dataset(random_sample[-400000:-200000])\n",
    "X_test, y_test = dataset(random_sample[-200000:])"
   ]
  },
  {
   "cell_type": "code",
   "execution_count": 6,
   "metadata": {
    "ExecuteTime": {
     "end_time": "2020-04-27T07:12:18.484392Z",
     "start_time": "2020-04-27T07:12:18.481150Z"
    }
   },
   "outputs": [
    {
     "name": "stdout",
     "output_type": "stream",
     "text": [
      "train (2000000, 32) (2000000,)\n",
      "val (200000, 32) (200000,)\n",
      "test (200000, 32) (200000,)\n"
     ]
    }
   ],
   "source": [
    "print ('train', X_train.shape, y_train.shape)\n",
    "print ('val', X_val.shape, y_val.shape)\n",
    "print ('test', X_test.shape, y_test.shape)"
   ]
  },
  {
   "cell_type": "code",
   "execution_count": 7,
   "metadata": {
    "ExecuteTime": {
     "end_time": "2020-04-27T07:51:27.133667Z",
     "start_time": "2020-04-27T07:12:18.485379Z"
    }
   },
   "outputs": [
    {
     "name": "stdout",
     "output_type": "stream",
     "text": [
      "[1000]\ttraining's binary_error: 0.0183575\tvalid_0's binary_error: 0.02385\n",
      "[2000]\ttraining's binary_error: 0.010984\tvalid_0's binary_error: 0.020005\n",
      "[3000]\ttraining's binary_error: 0.007678\tvalid_0's binary_error: 0.01848\n",
      "[4000]\ttraining's binary_error: 0.0055555\tvalid_0's binary_error: 0.01779\n",
      "[5000]\ttraining's binary_error: 0.0037285\tvalid_0's binary_error: 0.017335\n",
      "[6000]\ttraining's binary_error: 0.0025345\tvalid_0's binary_error: 0.017295\n",
      "[7000]\ttraining's binary_error: 0.0015665\tvalid_0's binary_error: 0.01696\n",
      "[8000]\ttraining's binary_error: 0.00101\tvalid_0's binary_error: 0.01673\n",
      "[9000]\ttraining's binary_error: 0.0006275\tvalid_0's binary_error: 0.016535\n",
      "[10000]\ttraining's binary_error: 0.00036\tvalid_0's binary_error: 0.0166\n",
      "[11000]\ttraining's binary_error: 0.000198\tvalid_0's binary_error: 0.01646\n",
      "[12000]\ttraining's binary_error: 6.6e-05\tvalid_0's binary_error: 0.016465\n",
      "[13000]\ttraining's binary_error: 2.4e-05\tvalid_0's binary_error: 0.016485\n",
      "[14000]\ttraining's binary_error: 8.5e-06\tvalid_0's binary_error: 0.016385\n",
      "[15000]\ttraining's binary_error: 3e-06\tvalid_0's binary_error: 0.01631\n",
      "[16000]\ttraining's binary_error: 5e-07\tvalid_0's binary_error: 0.01623\n",
      "[17000]\ttraining's binary_error: 0\tvalid_0's binary_error: 0.01618\n",
      "[18000]\ttraining's binary_error: 0\tvalid_0's binary_error: 0.01627\n",
      "[19000]\ttraining's binary_error: 0\tvalid_0's binary_error: 0.01611\n",
      "[20000]\ttraining's binary_error: 0\tvalid_0's binary_error: 0.016045\n",
      "[21000]\ttraining's binary_error: 0\tvalid_0's binary_error: 0.01602\n",
      "[22000]\ttraining's binary_error: 0\tvalid_0's binary_error: 0.016055\n",
      "[23000]\ttraining's binary_error: 0\tvalid_0's binary_error: 0.015975\n",
      "[24000]\ttraining's binary_error: 0\tvalid_0's binary_error: 0.01587\n",
      "[25000]\ttraining's binary_error: 0\tvalid_0's binary_error: 0.015735\n",
      "[26000]\ttraining's binary_error: 0\tvalid_0's binary_error: 0.01577\n",
      "[27000]\ttraining's binary_error: 0\tvalid_0's binary_error: 0.01566\n",
      "[28000]\ttraining's binary_error: 0\tvalid_0's binary_error: 0.015675\n",
      "[29000]\ttraining's binary_error: 0\tvalid_0's binary_error: 0.01568\n",
      "[30000]\ttraining's binary_error: 0\tvalid_0's binary_error: 0.01564\n"
     ]
    }
   ],
   "source": [
    "params = {\n",
    "    'boosting_type': 'gbdt',\n",
    "    'objective': 'binary',\n",
    "    'metric': 'binary_error',\n",
    "    'num_leaves': 31,\n",
    "    'verbose': 1,\n",
    "    'num_threads': 16,\n",
    "}\n",
    "\n",
    "train_data = lgb.Dataset(X_train, label=y_train)\n",
    "valid_data = lgb.Dataset(X_val, label=y_val, reference=train_data)\n",
    "\n",
    "clf = lgb.train(params, train_data, num_boost_round=30000,\n",
    "                valid_sets=[valid_data, train_data], verbose_eval=1000)"
   ]
  },
  {
   "cell_type": "code",
   "execution_count": 10,
   "metadata": {
    "ExecuteTime": {
     "end_time": "2020-04-27T09:26:01.615246Z",
     "start_time": "2020-04-27T09:11:55.130158Z"
    }
   },
   "outputs": [
    {
     "name": "stdout",
     "output_type": "stream",
     "text": [
      "train 1.0\n",
      "val 0.98436\n",
      "test 0.984025\n"
     ]
    }
   ],
   "source": [
    "th = 0.5\n",
    "\n",
    "print ('train', ((clf.predict(X_train) > th) == y_train.values).mean())\n",
    "print ('val', ((clf.predict(X_val) > th) == y_val.values).mean())\n",
    "print ('test', ((clf.predict(X_test) > th) == y_test.values).mean())"
   ]
  },
  {
   "cell_type": "code",
   "execution_count": null,
   "metadata": {},
   "outputs": [],
   "source": []
  }
 ],
 "metadata": {
  "kernelspec": {
   "display_name": "Python 3",
   "language": "python",
   "name": "python3"
  },
  "language_info": {
   "codemirror_mode": {
    "name": "ipython",
    "version": 3
   },
   "file_extension": ".py",
   "mimetype": "text/x-python",
   "name": "python",
   "nbconvert_exporter": "python",
   "pygments_lexer": "ipython3",
   "version": "3.6.8"
  },
  "toc": {
   "base_numbering": 1,
   "nav_menu": {},
   "number_sections": true,
   "sideBar": true,
   "skip_h1_title": false,
   "title_cell": "Table of Contents",
   "title_sidebar": "Contents",
   "toc_cell": false,
   "toc_position": {},
   "toc_section_display": true,
   "toc_window_display": false
  }
 },
 "nbformat": 4,
 "nbformat_minor": 4
}
