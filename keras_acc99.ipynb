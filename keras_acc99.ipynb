{
 "cells": [
  {
   "cell_type": "code",
   "execution_count": 1,
   "metadata": {
    "ExecuteTime": {
     "end_time": "2020-04-30T14:38:58.983156Z",
     "start_time": "2020-04-30T14:38:58.980596Z"
    }
   },
   "outputs": [],
   "source": [
    "import os\n",
    "os.environ[\"CUDA_VISIBLE_DEVICES\"]=\"\""
   ]
  },
  {
   "cell_type": "code",
   "execution_count": 2,
   "metadata": {
    "ExecuteTime": {
     "end_time": "2020-04-30T14:39:00.701590Z",
     "start_time": "2020-04-30T14:38:58.984417Z"
    }
   },
   "outputs": [],
   "source": [
    "import pandas as pd\n",
    "import numpy as np\n",
    "import lightgbm as lgb\n",
    "import sys\n",
    "\n",
    "import tensorflow as tf\n",
    "from tensorflow.keras import Input, Model\n",
    "from tensorflow.keras.layers import Dense"
   ]
  },
  {
   "cell_type": "code",
   "execution_count": 3,
   "metadata": {
    "ExecuteTime": {
     "end_time": "2020-04-30T14:39:00.705301Z",
     "start_time": "2020-04-30T14:39:00.703296Z"
    }
   },
   "outputs": [],
   "source": [
    "P = 32771"
   ]
  },
  {
   "cell_type": "code",
   "execution_count": 4,
   "metadata": {
    "ExecuteTime": {
     "end_time": "2020-04-30T14:39:03.658145Z",
     "start_time": "2020-04-30T14:39:00.706730Z"
    }
   },
   "outputs": [
    {
     "data": {
      "text/plain": [
       "(3998155, 8583390742850828)"
      ]
     },
     "execution_count": 4,
     "metadata": {},
     "output_type": "execute_result"
    }
   ],
   "source": [
    "np.random.seed(P)\n",
    "random_sample = list(set(np.random.randint(0, 2**32, size=4000000).tolist()))\n",
    "np.random.shuffle(random_sample)\n",
    "len(random_sample), np.array(random_sample).sum()"
   ]
  },
  {
   "cell_type": "code",
   "execution_count": 5,
   "metadata": {
    "ExecuteTime": {
     "end_time": "2020-04-30T14:39:03.791557Z",
     "start_time": "2020-04-30T14:39:03.660145Z"
    }
   },
   "outputs": [],
   "source": [
    "def dataset(xs):\n",
    "    X = pd.DataFrame(map(lambda x: map(int,f'{x:032b}'), xs))\n",
    "    y = pd.Series(map(lambda x: (x % P) % 2, xs))\n",
    "    return X, y"
   ]
  },
  {
   "cell_type": "code",
   "execution_count": 6,
   "metadata": {
    "ExecuteTime": {
     "end_time": "2020-04-30T14:39:42.688737Z",
     "start_time": "2020-04-30T14:39:03.792938Z"
    }
   },
   "outputs": [],
   "source": [
    "X_train, y_train = dataset(random_sample[:2000000])\n",
    "X_val, y_val = dataset(random_sample[-400000:-200000])\n",
    "X_test, y_test = dataset(random_sample[-200000:])"
   ]
  },
  {
   "cell_type": "code",
   "execution_count": 7,
   "metadata": {
    "ExecuteTime": {
     "end_time": "2020-04-30T14:39:42.694337Z",
     "start_time": "2020-04-30T14:39:42.690591Z"
    }
   },
   "outputs": [
    {
     "name": "stdout",
     "output_type": "stream",
     "text": [
      "train (2000000, 32) (2000000,)\n",
      "val (200000, 32) (200000,)\n",
      "test (200000, 32) (200000,)\n"
     ]
    }
   ],
   "source": [
    "print ('train', X_train.shape, y_train.shape)\n",
    "print ('val', X_val.shape, y_val.shape)\n",
    "print ('test', X_test.shape, y_test.shape)"
   ]
  },
  {
   "cell_type": "code",
   "execution_count": 8,
   "metadata": {
    "ExecuteTime": {
     "end_time": "2020-04-30T14:39:42.878891Z",
     "start_time": "2020-04-30T14:39:42.695526Z"
    }
   },
   "outputs": [],
   "source": [
    "inputs = Input(shape=(32,), name='digits')\n",
    "x = Dense(64, activation='relu', name='dense_1')(inputs)\n",
    "x = Dense(64, activation='relu', name='dense_2')(x)\n",
    "outputs = Dense(1, activation='sigmoid', name='predictions')(x)\n",
    "\n",
    "model = Model(inputs=inputs, outputs=outputs)"
   ]
  },
  {
   "cell_type": "code",
   "execution_count": 9,
   "metadata": {
    "ExecuteTime": {
     "end_time": "2020-04-30T14:39:42.908311Z",
     "start_time": "2020-04-30T14:39:42.880177Z"
    }
   },
   "outputs": [],
   "source": [
    "model.compile(optimizer='adam', loss='binary_crossentropy', metrics=['accuracy'])"
   ]
  },
  {
   "cell_type": "code",
   "execution_count": 10,
   "metadata": {
    "ExecuteTime": {
     "end_time": "2020-04-30T14:41:25.625148Z",
     "start_time": "2020-04-30T14:39:42.909501Z"
    }
   },
   "outputs": [
    {
     "name": "stdout",
     "output_type": "stream",
     "text": [
      "Train on 2000000 samples, validate on 200000 samples\n",
      "Epoch 1/3\n",
      "2000000/2000000 [==============================] - 35s 18us/sample - loss: 0.1070 - accuracy: 0.9459 - val_loss: 0.0317 - val_accuracy: 0.9868\n",
      "Epoch 2/3\n",
      "2000000/2000000 [==============================] - 33s 17us/sample - loss: 0.0270 - accuracy: 0.9887 - val_loss: 0.0358 - val_accuracy: 0.9851\n",
      "Epoch 3/3\n",
      "2000000/2000000 [==============================] - 33s 17us/sample - loss: 0.0225 - accuracy: 0.9906 - val_loss: 0.0203 - val_accuracy: 0.9912\n"
     ]
    },
    {
     "data": {
      "text/plain": [
       "<tensorflow.python.keras.callbacks.History at 0x7f7a3809a630>"
      ]
     },
     "execution_count": 10,
     "metadata": {},
     "output_type": "execute_result"
    }
   ],
   "source": [
    "model.fit(X_train, y_train, batch_size=64, epochs=3, validation_data=(X_val, y_val))"
   ]
  },
  {
   "cell_type": "code",
   "execution_count": 12,
   "metadata": {
    "ExecuteTime": {
     "end_time": "2020-04-30T14:42:22.665898Z",
     "start_time": "2020-04-30T14:41:54.188489Z"
    }
   },
   "outputs": [
    {
     "name": "stdout",
     "output_type": "stream",
     "text": [
      "train 0.9915235\n",
      "val 0.991185\n",
      "test 0.991135\n"
     ]
    }
   ],
   "source": [
    "th = 0.5\n",
    "\n",
    "print ('train', ((model.predict(X_train)[:,0] > th) == y_train.values).mean())\n",
    "print ('val', ((model.predict(X_val)[:,0] > th) == y_val.values).mean())\n",
    "print ('test', ((model.predict(X_test)[:,0] > th) == y_test.values).mean())"
   ]
  },
  {
   "cell_type": "code",
   "execution_count": null,
   "metadata": {},
   "outputs": [],
   "source": []
  }
 ],
 "metadata": {
  "kernelspec": {
   "display_name": "Python 3",
   "language": "python",
   "name": "python3"
  },
  "language_info": {
   "codemirror_mode": {
    "name": "ipython",
    "version": 3
   },
   "file_extension": ".py",
   "mimetype": "text/x-python",
   "name": "python",
   "nbconvert_exporter": "python",
   "pygments_lexer": "ipython3",
   "version": "3.6.8"
  },
  "toc": {
   "base_numbering": 1,
   "nav_menu": {},
   "number_sections": true,
   "sideBar": true,
   "skip_h1_title": false,
   "title_cell": "Table of Contents",
   "title_sidebar": "Contents",
   "toc_cell": false,
   "toc_position": {},
   "toc_section_display": true,
   "toc_window_display": false
  }
 },
 "nbformat": 4,
 "nbformat_minor": 4
}
